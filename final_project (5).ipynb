{
 "cells": [
  {
   "cell_type": "code",
   "execution_count": 1,
   "id": "33a59046",
   "metadata": {},
   "outputs": [],
   "source": [
    "from sklearn.tree import DecisionTreeClassifier\n",
    "import pandas as pd\n",
    "df=pd.read_csv('C:\\\\Users\\\\tasne\\\\Downloads\\\\final_df_pipeline_data.csv',index_col='Unnamed: 0')\n"
   ]
  },
  {
   "cell_type": "code",
   "execution_count": 2,
   "id": "4ae8e8ff",
   "metadata": {},
   "outputs": [
    {
     "data": {
      "text/html": [
       "<div>\n",
       "<style scoped>\n",
       "    .dataframe tbody tr th:only-of-type {\n",
       "        vertical-align: middle;\n",
       "    }\n",
       "\n",
       "    .dataframe tbody tr th {\n",
       "        vertical-align: top;\n",
       "    }\n",
       "\n",
       "    .dataframe thead th {\n",
       "        text-align: right;\n",
       "    }\n",
       "</style>\n",
       "<table border=\"1\" class=\"dataframe\">\n",
       "  <thead>\n",
       "    <tr style=\"text-align: right;\">\n",
       "      <th></th>\n",
       "      <th>gender</th>\n",
       "      <th>age</th>\n",
       "      <th>edu_level</th>\n",
       "      <th>income</th>\n",
       "      <th>bank_acc</th>\n",
       "      <th>no_floors_pre</th>\n",
       "      <th>no_floor_post</th>\n",
       "      <th>age_building</th>\n",
       "      <th>height_ft_pre_eq</th>\n",
       "      <th>height_ft_post_eq</th>\n",
       "      <th>land_surface_condition</th>\n",
       "      <th>foundation_type</th>\n",
       "      <th>plan_configuration</th>\n",
       "      <th>damage_grade</th>\n",
       "      <th>tec_solution</th>\n",
       "    </tr>\n",
       "  </thead>\n",
       "  <tbody>\n",
       "    <tr>\n",
       "      <th>0</th>\n",
       "      <td>Male</td>\n",
       "      <td>35</td>\n",
       "      <td>Illiterate</td>\n",
       "      <td>10</td>\n",
       "      <td>0.0</td>\n",
       "      <td>1</td>\n",
       "      <td>1</td>\n",
       "      <td>9</td>\n",
       "      <td>9.0</td>\n",
       "      <td>9</td>\n",
       "      <td>Flat</td>\n",
       "      <td>Rc</td>\n",
       "      <td>Rectangular</td>\n",
       "      <td>Grade 3</td>\n",
       "      <td>Major repair</td>\n",
       "    </tr>\n",
       "    <tr>\n",
       "      <th>1</th>\n",
       "      <td>Female</td>\n",
       "      <td>20</td>\n",
       "      <td>Illiterate</td>\n",
       "      <td>10</td>\n",
       "      <td>0.0</td>\n",
       "      <td>1</td>\n",
       "      <td>1</td>\n",
       "      <td>15</td>\n",
       "      <td>9.0</td>\n",
       "      <td>9</td>\n",
       "      <td>Flat</td>\n",
       "      <td>Rc</td>\n",
       "      <td>Rectangular</td>\n",
       "      <td>Grade 5</td>\n",
       "      <td>Reconstruction</td>\n",
       "    </tr>\n",
       "    <tr>\n",
       "      <th>2</th>\n",
       "      <td>Male</td>\n",
       "      <td>20</td>\n",
       "      <td>Illiterate</td>\n",
       "      <td>10</td>\n",
       "      <td>0.0</td>\n",
       "      <td>1</td>\n",
       "      <td>1</td>\n",
       "      <td>20</td>\n",
       "      <td>9.0</td>\n",
       "      <td>9</td>\n",
       "      <td>Flat</td>\n",
       "      <td>Rc</td>\n",
       "      <td>Rectangular</td>\n",
       "      <td>Grade 2</td>\n",
       "      <td>Minor repair</td>\n",
       "    </tr>\n",
       "    <tr>\n",
       "      <th>3</th>\n",
       "      <td>Male</td>\n",
       "      <td>50</td>\n",
       "      <td>Illiterate</td>\n",
       "      <td>10</td>\n",
       "      <td>0.0</td>\n",
       "      <td>1</td>\n",
       "      <td>1</td>\n",
       "      <td>20</td>\n",
       "      <td>9.0</td>\n",
       "      <td>9</td>\n",
       "      <td>Flat</td>\n",
       "      <td>Rc</td>\n",
       "      <td>Rectangular</td>\n",
       "      <td>Grade 2</td>\n",
       "      <td>Minor repair</td>\n",
       "    </tr>\n",
       "    <tr>\n",
       "      <th>4</th>\n",
       "      <td>Male</td>\n",
       "      <td>80</td>\n",
       "      <td>Illiterate</td>\n",
       "      <td>10</td>\n",
       "      <td>0.0</td>\n",
       "      <td>1</td>\n",
       "      <td>1</td>\n",
       "      <td>30</td>\n",
       "      <td>9.0</td>\n",
       "      <td>9</td>\n",
       "      <td>Flat</td>\n",
       "      <td>Rc</td>\n",
       "      <td>Rectangular</td>\n",
       "      <td>Grade 1</td>\n",
       "      <td>Minor repair</td>\n",
       "    </tr>\n",
       "  </tbody>\n",
       "</table>\n",
       "</div>"
      ],
      "text/plain": [
       "   gender  age   edu_level  income  bank_acc  no_floors_pre  no_floor_post  \\\n",
       "0    Male   35  Illiterate      10       0.0              1              1   \n",
       "1  Female   20  Illiterate      10       0.0              1              1   \n",
       "2    Male   20  Illiterate      10       0.0              1              1   \n",
       "3    Male   50  Illiterate      10       0.0              1              1   \n",
       "4    Male   80  Illiterate      10       0.0              1              1   \n",
       "\n",
       "   age_building  height_ft_pre_eq  height_ft_post_eq land_surface_condition  \\\n",
       "0             9               9.0                  9                   Flat   \n",
       "1            15               9.0                  9                   Flat   \n",
       "2            20               9.0                  9                   Flat   \n",
       "3            20               9.0                  9                   Flat   \n",
       "4            30               9.0                  9                   Flat   \n",
       "\n",
       "  foundation_type plan_configuration damage_grade    tec_solution  \n",
       "0              Rc        Rectangular      Grade 3    Major repair  \n",
       "1              Rc        Rectangular      Grade 5  Reconstruction  \n",
       "2              Rc        Rectangular      Grade 2    Minor repair  \n",
       "3              Rc        Rectangular      Grade 2    Minor repair  \n",
       "4              Rc        Rectangular      Grade 1    Minor repair  "
      ]
     },
     "execution_count": 2,
     "metadata": {},
     "output_type": "execute_result"
    }
   ],
   "source": [
    "df.head()"
   ]
  },
  {
   "cell_type": "code",
   "execution_count": null,
   "id": "e0ea6fa3",
   "metadata": {},
   "outputs": [],
   "source": []
  },
  {
   "cell_type": "code",
   "execution_count": 3,
   "id": "aecafed0",
   "metadata": {},
   "outputs": [],
   "source": [
    "X=df.drop('damage_grade',axis=1)\n",
    "y=df['damage_grade']"
   ]
  },
  {
   "cell_type": "code",
   "execution_count": 25,
   "id": "ef0a0cfa",
   "metadata": {},
   "outputs": [],
   "source": [
    "mapping={'Grade 1':1,'Grade 2':2,'Grade 3':3,'Grade 4':4,'Grade 5':5}"
   ]
  },
  {
   "cell_type": "code",
   "execution_count": 26,
   "id": "52b955b3",
   "metadata": {},
   "outputs": [],
   "source": [
    "y = y.map(mapping)"
   ]
  },
  {
   "cell_type": "code",
   "execution_count": 27,
   "id": "d968e157",
   "metadata": {},
   "outputs": [],
   "source": [
    "from sklearn.model_selection import train_test_split\n",
    "x_train,x_test,y_train,y_test = train_test_split(X,y,test_size=0.2,random_state=42)"
   ]
  },
  {
   "cell_type": "code",
   "execution_count": 28,
   "id": "eab39f50",
   "metadata": {},
   "outputs": [],
   "source": [
    "numeric_columns = x_train.select_dtypes(exclude='object').columns"
   ]
  },
  {
   "cell_type": "code",
   "execution_count": 29,
   "id": "4babb17e",
   "metadata": {},
   "outputs": [],
   "source": [
    "categorical_columns = x_train.select_dtypes(include='object').columns"
   ]
  },
  {
   "cell_type": "code",
   "execution_count": 30,
   "id": "38726d90",
   "metadata": {},
   "outputs": [],
   "source": [
    "from sklearn.preprocessing import StandardScaler\n",
    "from sklearn.impute import SimpleImputer\n",
    "from sklearn.pipeline import Pipeline\n",
    "numerical_features = Pipeline(steps=[('handeling missing values',SimpleImputer(strategy='median')),('scaling',StandardScaler(with_mean=False))])"
   ]
  },
  {
   "cell_type": "code",
   "execution_count": 31,
   "id": "560e8287",
   "metadata": {},
   "outputs": [
    {
     "data": {
      "text/plain": [
       "Pipeline(steps=[('handeling missing values', SimpleImputer(strategy='median')),\n",
       "                ('scaling', StandardScaler(with_mean=False))])"
      ]
     },
     "execution_count": 31,
     "metadata": {},
     "output_type": "execute_result"
    }
   ],
   "source": [
    "numerical_features"
   ]
  },
  {
   "cell_type": "code",
   "execution_count": 32,
   "id": "39f945c1",
   "metadata": {},
   "outputs": [],
   "source": [
    "from sklearn.preprocessing import OneHotEncoder\n",
    "categorical_features = Pipeline(steps=[('handeling missing values',SimpleImputer(strategy='most_frequent')),\n",
    "                                      ('handle cat features',OneHotEncoder(drop='first')),('scaling',StandardScaler(with_mean=False))])"
   ]
  },
  {
   "cell_type": "code",
   "execution_count": 33,
   "id": "f6392738",
   "metadata": {},
   "outputs": [
    {
     "data": {
      "text/plain": [
       "Pipeline(steps=[('handeling missing values',\n",
       "                 SimpleImputer(strategy='most_frequent')),\n",
       "                ('handle cat features', OneHotEncoder(drop='first')),\n",
       "                ('scaling', StandardScaler(with_mean=False))])"
      ]
     },
     "execution_count": 33,
     "metadata": {},
     "output_type": "execute_result"
    }
   ],
   "source": [
    "categorical_features"
   ]
  },
  {
   "cell_type": "code",
   "execution_count": 34,
   "id": "bc8c6b26",
   "metadata": {},
   "outputs": [],
   "source": [
    "from sklearn.compose import ColumnTransformer\n",
    "preprocessing = ColumnTransformer(transformers=[('numeric',numerical_features,numeric_columns),('categorical',categorical_features,categorical_columns)],remainder='passthrough')"
   ]
  },
  {
   "cell_type": "code",
   "execution_count": 35,
   "id": "05bca673",
   "metadata": {},
   "outputs": [
    {
     "data": {
      "text/plain": [
       "ColumnTransformer(remainder='passthrough',\n",
       "                  transformers=[('numeric',\n",
       "                                 Pipeline(steps=[('handeling missing values',\n",
       "                                                  SimpleImputer(strategy='median')),\n",
       "                                                 ('scaling',\n",
       "                                                  StandardScaler(with_mean=False))]),\n",
       "                                 Index(['age', 'income', 'bank_acc', 'no_floors_pre', 'no_floor_post',\n",
       "       'age_building', 'height_ft_pre_eq', 'height_ft_post_eq'],\n",
       "      dtype='object')),\n",
       "                                ('categorical',\n",
       "                                 Pipeline(steps=[('handeling missing values',\n",
       "                                                  SimpleImputer(strategy='most_frequent')),\n",
       "                                                 ('handle cat features',\n",
       "                                                  OneHotEncoder(drop='first')),\n",
       "                                                 ('scaling',\n",
       "                                                  StandardScaler(with_mean=False))]),\n",
       "                                 Index(['gender', 'edu_level', 'land_surface_condition', 'foundation_type',\n",
       "       'plan_configuration', 'tec_solution'],\n",
       "      dtype='object'))])"
      ]
     },
     "execution_count": 35,
     "metadata": {},
     "output_type": "execute_result"
    }
   ],
   "source": [
    "preprocessing"
   ]
  },
  {
   "cell_type": "code",
   "execution_count": 36,
   "id": "9f3557e9",
   "metadata": {},
   "outputs": [],
   "source": [
    "final_pipline = Pipeline(steps=[('preprocessing',preprocessing),('modeling',DecisionTreeClassifier(max_depth= 4, criterion='entropy'))])"
   ]
  },
  {
   "cell_type": "code",
   "execution_count": 37,
   "id": "09bd25a9",
   "metadata": {},
   "outputs": [
    {
     "data": {
      "text/plain": [
       "Pipeline(steps=[('preprocessing',\n",
       "                 ColumnTransformer(remainder='passthrough',\n",
       "                                   transformers=[('numeric',\n",
       "                                                  Pipeline(steps=[('handeling '\n",
       "                                                                   'missing '\n",
       "                                                                   'values',\n",
       "                                                                   SimpleImputer(strategy='median')),\n",
       "                                                                  ('scaling',\n",
       "                                                                   StandardScaler(with_mean=False))]),\n",
       "                                                  Index(['age', 'income', 'bank_acc', 'no_floors_pre', 'no_floor_post',\n",
       "       'age_building', 'height_ft_pre_eq', 'height_ft_post_eq'],\n",
       "      dtyp...\n",
       "                                                                   'missing '\n",
       "                                                                   'values',\n",
       "                                                                   SimpleImputer(strategy='most_frequent')),\n",
       "                                                                  ('handle cat '\n",
       "                                                                   'features',\n",
       "                                                                   OneHotEncoder(drop='first')),\n",
       "                                                                  ('scaling',\n",
       "                                                                   StandardScaler(with_mean=False))]),\n",
       "                                                  Index(['gender', 'edu_level', 'land_surface_condition', 'foundation_type',\n",
       "       'plan_configuration', 'tec_solution'],\n",
       "      dtype='object'))])),\n",
       "                ('modeling',\n",
       "                 DecisionTreeClassifier(criterion='entropy', max_depth=4))])"
      ]
     },
     "execution_count": 37,
     "metadata": {},
     "output_type": "execute_result"
    }
   ],
   "source": [
    "final_pipline"
   ]
  },
  {
   "cell_type": "code",
   "execution_count": 38,
   "id": "938f8b96",
   "metadata": {},
   "outputs": [
    {
     "data": {
      "text/plain": [
       "Pipeline(steps=[('preprocessing',\n",
       "                 ColumnTransformer(remainder='passthrough',\n",
       "                                   transformers=[('numeric',\n",
       "                                                  Pipeline(steps=[('handeling '\n",
       "                                                                   'missing '\n",
       "                                                                   'values',\n",
       "                                                                   SimpleImputer(strategy='median')),\n",
       "                                                                  ('scaling',\n",
       "                                                                   StandardScaler(with_mean=False))]),\n",
       "                                                  Index(['age', 'income', 'bank_acc', 'no_floors_pre', 'no_floor_post',\n",
       "       'age_building', 'height_ft_pre_eq', 'height_ft_post_eq'],\n",
       "      dtyp...\n",
       "                                                                   'missing '\n",
       "                                                                   'values',\n",
       "                                                                   SimpleImputer(strategy='most_frequent')),\n",
       "                                                                  ('handle cat '\n",
       "                                                                   'features',\n",
       "                                                                   OneHotEncoder(drop='first')),\n",
       "                                                                  ('scaling',\n",
       "                                                                   StandardScaler(with_mean=False))]),\n",
       "                                                  Index(['gender', 'edu_level', 'land_surface_condition', 'foundation_type',\n",
       "       'plan_configuration', 'tec_solution'],\n",
       "      dtype='object'))])),\n",
       "                ('modeling',\n",
       "                 DecisionTreeClassifier(criterion='entropy', max_depth=4))])"
      ]
     },
     "execution_count": 38,
     "metadata": {},
     "output_type": "execute_result"
    }
   ],
   "source": [
    "final_pipline.fit(x_train,y_train)"
   ]
  },
  {
   "cell_type": "code",
   "execution_count": 39,
   "id": "4d44705f",
   "metadata": {},
   "outputs": [
    {
     "data": {
      "text/plain": [
       "array([2, 5, 1, ..., 3, 1, 3], dtype=int64)"
      ]
     },
     "execution_count": 39,
     "metadata": {},
     "output_type": "execute_result"
    }
   ],
   "source": [
    "final_pipline.predict(x_test)"
   ]
  },
  {
   "cell_type": "code",
   "execution_count": 40,
   "id": "ddd29dbc",
   "metadata": {},
   "outputs": [
    {
     "data": {
      "text/plain": [
       "['final_model_pipeline_test.pkl']"
      ]
     },
     "execution_count": 40,
     "metadata": {},
     "output_type": "execute_result"
    }
   ],
   "source": [
    "import joblib\n",
    "joblib.dump(final_pipline,'final_model_pipeline_test.pkl')"
   ]
  },
  {
   "cell_type": "code",
   "execution_count": 41,
   "id": "54a0dd91",
   "metadata": {},
   "outputs": [
    {
     "data": {
      "text/html": [
       "<div>\n",
       "<style scoped>\n",
       "    .dataframe tbody tr th:only-of-type {\n",
       "        vertical-align: middle;\n",
       "    }\n",
       "\n",
       "    .dataframe tbody tr th {\n",
       "        vertical-align: top;\n",
       "    }\n",
       "\n",
       "    .dataframe thead th {\n",
       "        text-align: right;\n",
       "    }\n",
       "</style>\n",
       "<table border=\"1\" class=\"dataframe\">\n",
       "  <thead>\n",
       "    <tr style=\"text-align: right;\">\n",
       "      <th></th>\n",
       "      <th>gender</th>\n",
       "      <th>age</th>\n",
       "      <th>edu_level</th>\n",
       "      <th>income</th>\n",
       "      <th>bank_acc</th>\n",
       "      <th>no_floors_pre</th>\n",
       "      <th>no_floor_post</th>\n",
       "      <th>age_building</th>\n",
       "      <th>height_ft_pre_eq</th>\n",
       "      <th>height_ft_post_eq</th>\n",
       "      <th>land_surface_condition</th>\n",
       "      <th>foundation_type</th>\n",
       "      <th>plan_configuration</th>\n",
       "      <th>damage_grade</th>\n",
       "      <th>tec_solution</th>\n",
       "    </tr>\n",
       "  </thead>\n",
       "  <tbody>\n",
       "    <tr>\n",
       "      <th>0</th>\n",
       "      <td>Male</td>\n",
       "      <td>35</td>\n",
       "      <td>Illiterate</td>\n",
       "      <td>10</td>\n",
       "      <td>0.0</td>\n",
       "      <td>1</td>\n",
       "      <td>1</td>\n",
       "      <td>9</td>\n",
       "      <td>9.0</td>\n",
       "      <td>9</td>\n",
       "      <td>Flat</td>\n",
       "      <td>Rc</td>\n",
       "      <td>Rectangular</td>\n",
       "      <td>Grade 3</td>\n",
       "      <td>Major repair</td>\n",
       "    </tr>\n",
       "    <tr>\n",
       "      <th>1</th>\n",
       "      <td>Female</td>\n",
       "      <td>20</td>\n",
       "      <td>Illiterate</td>\n",
       "      <td>10</td>\n",
       "      <td>0.0</td>\n",
       "      <td>1</td>\n",
       "      <td>1</td>\n",
       "      <td>15</td>\n",
       "      <td>9.0</td>\n",
       "      <td>9</td>\n",
       "      <td>Flat</td>\n",
       "      <td>Rc</td>\n",
       "      <td>Rectangular</td>\n",
       "      <td>Grade 5</td>\n",
       "      <td>Reconstruction</td>\n",
       "    </tr>\n",
       "    <tr>\n",
       "      <th>2</th>\n",
       "      <td>Male</td>\n",
       "      <td>20</td>\n",
       "      <td>Illiterate</td>\n",
       "      <td>10</td>\n",
       "      <td>0.0</td>\n",
       "      <td>1</td>\n",
       "      <td>1</td>\n",
       "      <td>20</td>\n",
       "      <td>9.0</td>\n",
       "      <td>9</td>\n",
       "      <td>Flat</td>\n",
       "      <td>Rc</td>\n",
       "      <td>Rectangular</td>\n",
       "      <td>Grade 2</td>\n",
       "      <td>Minor repair</td>\n",
       "    </tr>\n",
       "    <tr>\n",
       "      <th>3</th>\n",
       "      <td>Male</td>\n",
       "      <td>50</td>\n",
       "      <td>Illiterate</td>\n",
       "      <td>10</td>\n",
       "      <td>0.0</td>\n",
       "      <td>1</td>\n",
       "      <td>1</td>\n",
       "      <td>20</td>\n",
       "      <td>9.0</td>\n",
       "      <td>9</td>\n",
       "      <td>Flat</td>\n",
       "      <td>Rc</td>\n",
       "      <td>Rectangular</td>\n",
       "      <td>Grade 2</td>\n",
       "      <td>Minor repair</td>\n",
       "    </tr>\n",
       "    <tr>\n",
       "      <th>4</th>\n",
       "      <td>Male</td>\n",
       "      <td>80</td>\n",
       "      <td>Illiterate</td>\n",
       "      <td>10</td>\n",
       "      <td>0.0</td>\n",
       "      <td>1</td>\n",
       "      <td>1</td>\n",
       "      <td>30</td>\n",
       "      <td>9.0</td>\n",
       "      <td>9</td>\n",
       "      <td>Flat</td>\n",
       "      <td>Rc</td>\n",
       "      <td>Rectangular</td>\n",
       "      <td>Grade 1</td>\n",
       "      <td>Minor repair</td>\n",
       "    </tr>\n",
       "  </tbody>\n",
       "</table>\n",
       "</div>"
      ],
      "text/plain": [
       "   gender  age   edu_level  income  bank_acc  no_floors_pre  no_floor_post  \\\n",
       "0    Male   35  Illiterate      10       0.0              1              1   \n",
       "1  Female   20  Illiterate      10       0.0              1              1   \n",
       "2    Male   20  Illiterate      10       0.0              1              1   \n",
       "3    Male   50  Illiterate      10       0.0              1              1   \n",
       "4    Male   80  Illiterate      10       0.0              1              1   \n",
       "\n",
       "   age_building  height_ft_pre_eq  height_ft_post_eq land_surface_condition  \\\n",
       "0             9               9.0                  9                   Flat   \n",
       "1            15               9.0                  9                   Flat   \n",
       "2            20               9.0                  9                   Flat   \n",
       "3            20               9.0                  9                   Flat   \n",
       "4            30               9.0                  9                   Flat   \n",
       "\n",
       "  foundation_type plan_configuration damage_grade    tec_solution  \n",
       "0              Rc        Rectangular      Grade 3    Major repair  \n",
       "1              Rc        Rectangular      Grade 5  Reconstruction  \n",
       "2              Rc        Rectangular      Grade 2    Minor repair  \n",
       "3              Rc        Rectangular      Grade 2    Minor repair  \n",
       "4              Rc        Rectangular      Grade 1    Minor repair  "
      ]
     },
     "execution_count": 41,
     "metadata": {},
     "output_type": "execute_result"
    }
   ],
   "source": [
    "df.head()"
   ]
  },
  {
   "cell_type": "code",
   "execution_count": 43,
   "id": "3e515609",
   "metadata": {},
   "outputs": [],
   "source": [
    "model = joblib.load('final_model_pipeline_test.pkl')"
   ]
  },
  {
   "cell_type": "code",
   "execution_count": 44,
   "id": "a05c13f4",
   "metadata": {},
   "outputs": [
    {
     "data": {
      "text/plain": [
       "array([3], dtype=int64)"
      ]
     },
     "execution_count": 44,
     "metadata": {},
     "output_type": "execute_result"
    }
   ],
   "source": [
    "prediction = model.predict(pd.DataFrame({'gender':['Male'], 'age':[35],'edu_level':['Illiterate'], 'income':[10], 'bank_acc':[0],\n",
    "                                             'no_floors_pre':[1],'no_floor_post':[1],'age_building':[9],\n",
    "                                             'height_ft_pre_eq':[9.0],'height_ft_post_eq':[9],\n",
    "                                             'land_surface_condition':['Flat'],\n",
    "                                             'foundation_type':['Rc'],\n",
    "                                              'plan_configuration':['Rectangular'],'tec_solution':['Major repair']}))\n",
    "prediction"
   ]
  },
  {
   "cell_type": "code",
   "execution_count": 14,
   "id": "9c21845a",
   "metadata": {},
   "outputs": [
    {
     "name": "stdout",
     "output_type": "stream",
     "text": [
      "Overwriting final_model3.py\n"
     ]
    }
   ],
   "source": [
    "%%writefile final_model3.py\n",
    "import pandas as pd\n",
    "import numpy as np\n",
    "import joblib\n",
    "import streamlit as st\n",
    "import sklearn\n",
    "import base64\n",
    "\n",
    "model = joblib.load('final_model_pipeline_test.pkl')\n",
    "def predict_damage_grade(gender, age, edu_level, income, bank_acc, no_floors_pre,\n",
    "       no_floor_post, age_building, height_ft_pre_eq,\n",
    "       height_ft_post_eq, land_surface_condition,foundation_type,\n",
    "       plan_configuration,tec_solution):\n",
    "    \n",
    "    prediction = model.predict(pd.DataFrame({'gender':gender, 'age':age,'edu_level':edu_level, 'income':income\n",
    "                                               , 'bank_acc':bank_acc,\n",
    "                                             'no_floors_pre':no_floors_pre,'no_floor_post':no_floor_post,'age_building':age_building,\n",
    "                                             'height_ft_pre_eq':height_ft_pre_eq,'height_ft_post_eq':height_ft_post_eq,\n",
    "                                             'land_surface_condition':land_surface_condition,\n",
    "                                             'foundation_type':foundation_type,\n",
    "                                              'plan_configuration':plan_configuration,'tec_solution':tec_solution}))\n",
    "    label=['Grade 1','Grade 2', 'Grade 3','Grade 4','Grade 5']\n",
    "        \n",
    "    return  label[prediction[0]]\n",
    "    \n",
    "def main():\n",
    "    def add_bg_from_local(image_file):\n",
    "        with open(image_file, \"rb\") as image_file:\n",
    "            encoded_string = base64.b64encode(image_file.read())\n",
    "        st.markdown(\n",
    "        f\"\"\"\n",
    "            <style>\n",
    "            .stApp {{\n",
    "                background-image: url(data:image/{\"jpg\"};base64,{encoded_string.decode()});\n",
    "                background-size: cover\n",
    "            }}\n",
    "            </style>\n",
    "            \"\"\",\n",
    "            unsafe_allow_html=True\n",
    "            )\n",
    "    add_bg_from_local('C:\\\\Users\\\\tasne\\\\Downloads\\\\detail-nepalmap.jpg')    \n",
    "      \n",
    "    st.title('Damage Grade Prediction')\n",
    "   \n",
    "    html_temp = \"\"\"\n",
    "        \n",
    "        <div style='background-color:white'>\n",
    "        <h2 style=\"color:red;text-align:center;\">Nepal's Earthquak</h2>\n",
    "        </div>\n",
    "                  \"\"\"\n",
    "    st.audio('C:\\\\Users\\\\tasne\\\\Downloads\\\\Nepal.mp3')\n",
    "    \n",
    "    st.markdown(html_temp,unsafe_allow_html=True)\n",
    "    gender = st.selectbox('choose the gender_household_head',['Male','Female'])\n",
    "    age = st.text_input('Age','household age')\n",
    "   \n",
    "    edu_level=st.selectbox('Education level',['Illiterate', 'Class 5', 'Class 4', 'SLC or equivalent',\n",
    "       'Class 10', 'Class 9', 'Non-formal education',\n",
    "       'Intermediate or equivalent', 'Class 7', 'Class 2', 'Class 1',\n",
    "       'Class 8', 'Class 3', 'Class 6', 'Bachelors or equivalent',\n",
    "       'Other', 'Masters or equivalent', 'Nursery/K.G./Kindergarten',\n",
    "       'Ph.D. or equivalent'])\n",
    "    income = st.text_input('household income','income')\n",
    "    \n",
    "    bank_acc = st.selectbox('Bank account ',['0','1'])\n",
    "    no_floors_pre = st.text_input('Number of floors pre earthquake','')\n",
    "    no_floor_post = st.text_input('Number of floors post earthquake','')\n",
    "    age_building=st.slider('age_building',0,100)\n",
    "    height_ft_pre_eq = st.slider('building height pre',0,100)\n",
    "    height_ft_post_eq = st.slider('building height post',0,100)\n",
    "    \n",
    "    land_surface_condition=st.multiselect('land_surface_condition',['Flat', 'Moderate slope', 'Steep slope'])\n",
    "    foundation_type=st.multiselect('foundation_type',['Rc', 'Brick', 'Bamboo'])\n",
    "    plan_configuration = st.selectbox('plan_configuration',['Rectangular', 'T-shape', 'Square'])\n",
    "    tec_solution = st.radio('pick the tech solution done',['Major repair', 'Reconstruction', 'Minor repair', 'No need'])        \n",
    "    result = \"\"\n",
    "    if st.button('predict'):\n",
    "        result = predict_damage_grade(gender, age, edu_level, income, bank_acc, no_floors_pre,no_floor_post, age_building, height_ft_pre_eq, height_ft_post_eq, land_surface_condition,foundation_type, plan_configuration,tec_solution)\n",
    "    st.success('The damage grade is {} '.format(result)) \n",
    "\n",
    "    \n",
    "\n",
    "if __name__ =='__main__':\n",
    "    main()\n",
    "        "
   ]
  },
  {
   "cell_type": "code",
   "execution_count": null,
   "id": "6c105134",
   "metadata": {},
   "outputs": [],
   "source": [
    "!streamlit run final_model3.py"
   ]
  },
  {
   "cell_type": "code",
   "execution_count": null,
   "id": "47fc1032",
   "metadata": {},
   "outputs": [],
   "source": []
  },
  {
   "cell_type": "code",
   "execution_count": null,
   "id": "59ed4583",
   "metadata": {},
   "outputs": [],
   "source": []
  }
 ],
 "metadata": {
  "kernelspec": {
   "display_name": "Python 3 (ipykernel)",
   "language": "python",
   "name": "python3"
  },
  "language_info": {
   "codemirror_mode": {
    "name": "ipython",
    "version": 3
   },
   "file_extension": ".py",
   "mimetype": "text/x-python",
   "name": "python",
   "nbconvert_exporter": "python",
   "pygments_lexer": "ipython3",
   "version": "3.9.13"
  }
 },
 "nbformat": 4,
 "nbformat_minor": 5
}
